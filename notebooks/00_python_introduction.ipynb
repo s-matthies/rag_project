{
 "cells": [
  {
   "cell_type": "markdown",
   "id": "fa01b4e6",
   "metadata": {},
   "source": [
    "### Kleiner Exkurs: Jupyter Notebook\n",
    "\n",
    "<img src=\"../images/jupyter_logo.png\" width=\"200\" height=\"220\">\n",
    "\n",
    "Jupyter Notebook ist ein web-basierte, interaktive Entwicklungsumgebung für das Schreiben von Code, das Erstellen von Visualisierungen und das Einbinden von Text-Elementen mit Hilfe der Auszeichnungssprache Markdown. \n",
    "\n",
    "In einem Notebook lassen sich schnell kleine und größere Code-Blöcke entwickeln und direkt ausführen. \n",
    "\n",
    "Im Rahmen der ersten Hausaufgabe haben Sie bereits: \n",
    "- den Jupyter Notebook Server gestartet\n",
    "- ein neues Notebook erstellt\n",
    "- Code-Zeilen erstellt und ausgeführt\n",
    "\n",
    "Notebooks erlauben auch das Einfügen von Text mit Markdown-Zellen. \n",
    "\n",
    "Hierfür: \n",
    "- Klicken Sie oben in der Menüleiste auf das Plus-Symbol, um eine neue Zeile einzufügen. \n",
    "- Klicken Sie in die Zeile und wechseln Sie dann über das Dropwon-Menü oben von Zeilentyp von 'Code' auf 'Markdown'.\n",
    "- Fügen Sie etwas Text ein. Formatierungsoptionen sind z.B. eines oder mehrere \\# für Überschriften, \\* für kursiv, \\** für fett, sowie \\`...` für Code-Zeilen und \\```...``` für Code-Blöcke. \n",
    "- Hier finden Sie eine Übersicht der wichtigsten Formatierungsoptionen: [Markdown Guide](https://www.markdownguide.org/basic-syntax/)"
   ]
  },
  {
   "cell_type": "markdown",
   "id": "ceb648b5",
   "metadata": {},
   "source": [
    "\n",
    "# Einführung in Python\n",
    "![Python Logo](../images/python_logo.png \"Python Logo\")\n",
    "\n",
    "Python ist eine Programmiersprache, die 1998 von dem niederländischen Softwareentwickler Guido van Rossum entwickelt wurde: \n",
    "\n",
    "> \"Vor über sechs Jahren, im Dezember 1989, suchte ich nach einem Programmierprojekt, das mich über die Weihnachtswoche beschäftigen würde. \n",
    "Mein Büro würde geschlossen bleiben, aber ich hatte auch zu Hause einen PC und sonst nicht viel zu tun. Ich entschied mich, einen Interpreter für die Skriptsprache zu schreiben, über die ich kürzlich nachdachte: Ein Nachfolger von ABC, der auch Unix- und C-Hacker ansprechen würde. Ich wählte Python als Arbeitstitel für das Projekt, weil ich in einer leicht respektlosen Stimmung (und ein großer Fan des Monty Python’s Flying Circus) war.\"\n",
    "\n",
    "Ziel war es, eine einfach zu erlernende, intuitive Sprache zu entwickeln, die zudem Open Source ist, sodass sich jede*r an ihrer Weiterentwicklung beteiligen kann. \n",
    "\n",
    "`Python` ist heute sehr beliebt als Programmiersprache für wissenschaftliche Zwecke, Data Science, Machine Learning und auch für Natural Language Processing. \n",
    "\n",
    "Es gibt eine Vielzahl an Bibliotheken für `Python`wie z.B. `pandas` für Datenanalyse oder `scikit-learn` für Machine Learning. \n",
    "\n",
    "Eine große Community aus Entwickler\\*innen und Nutzer\\*innen ist rund um `Python` entstanden, darunter auch die \"PyLadies\", die Mentoring für Menschen mit marginalisiertem Gender unterstützt.\n",
    "\n",
    "Es gibt auch eine [PyLadies Berlin Section](https://berlin.pyladies.com/en/).\n",
    "\n",
    "In der heutigen Übungen schauen wir uns wichtige Aspekte von Python an, von Datentypen über Kontrollstrukturen bis hin zu Funktionen und Klassen und natürlich dem Arbeiten mit `Strings`."
   ]
  },
  {
   "cell_type": "markdown",
   "id": "0eff06da",
   "metadata": {},
   "source": [
    "### `pandas` installieren"
   ]
  },
  {
   "cell_type": "markdown",
   "id": "6d315b06",
   "metadata": {},
   "source": [
    "Wenn noch genug Zeit ist, machen wir heute auch erste Schritte mit `pandas`. \n",
    "\n",
    "Um `pandas` nutzen zu können, müssen Sie die Bibliothek zuerst installieren. \n",
    "\n",
    "Im Terminal - innerhalb der aktivierten virtuellen Umgebung - führen Sie folgenden Befehl aus: \n",
    "\n",
    "`pip install pandas`\n",
    "\n",
    "Danach müssen Sie den Kernel Ihres Jupyter Servers neu starten (im Notebook oben auf `Kernel` -> `Restart Kernel` klicken.)"
   ]
  },
  {
   "cell_type": "markdown",
   "id": "a96ae899",
   "metadata": {},
   "source": [
    "## IDEs für Python\n",
    "\n",
    "Python-Skripte lassen sich mit einem einfachen Texteditor schreiben, z.B. `nano` im Terminal oder `Sublime Text`.\n",
    "\n",
    "Zudem können Sie auch über Jupyter Python-Skripte erstellen (`New File` und mit Endung `.py` abspeichern). \n",
    "\n",
    "Für eine möglichst komfortable und effiziente Entwicklung Ihres RAG-Projekts empfehle ich Ihnen jedoch, sich eine geeignete IDE zu installieren, sofern Sie dies nicht ohnehin schon haben. \n",
    "\n",
    "Für `Python` eignen sich z.B. [PyCharm](https://www.jetbrains.com/pycharm/) oder [Visual Studio Code](https://code.visualstudio.com/). Für beide können Sie eine Studierendenlizenz bekommen. \n",
    "\n",
    "Beide IDEs ermöglichen auch die Integration von Jupyter Notebooks, sodass Sie bequem zwischen Coden im Notebook und in Python-Skripten wechseln können. "
   ]
  },
  {
   "cell_type": "markdown",
   "id": "64fa4447",
   "metadata": {},
   "source": [
    "## 1. Variablen\n",
    "\n",
    "Die Erzeugung von Variablen geschieht gleichzeitig mit der Zuweisung eines konkreten Werts. "
   ]
  },
  {
   "cell_type": "code",
   "execution_count": 6,
   "id": "a2197d79",
   "metadata": {},
   "outputs": [
    {
     "name": "stdout",
     "output_type": "stream",
     "text": [
      "Was ist der Sinn des Lebens?\n",
      "Antwort: 42\n"
     ]
    }
   ],
   "source": [
    "x = 42\n",
    "s = \"Was ist der Sinn des Lebens?\"\n",
    "print(s)\n",
    "print(\"Antwort:\", x)"
   ]
  },
  {
   "cell_type": "markdown",
   "id": "0166277a",
   "metadata": {},
   "source": [
    "Variablen muss bei der Erzeugung kein bestimmter Datentyp zugewiesen werden, dies geschieht automatisch durch den zugewiesenen Wert. \n",
    "\n",
    "Der Datentyp einer Variable kann sich nach ihrer Erzeugung auch ändern. "
   ]
  },
  {
   "cell_type": "code",
   "execution_count": 2,
   "id": "49683dcd",
   "metadata": {},
   "outputs": [
    {
     "data": {
      "text/plain": [
       "(int, str)"
      ]
     },
     "execution_count": 2,
     "metadata": {},
     "output_type": "execute_result"
    }
   ],
   "source": [
    "x = 4 # x hat den Datentyp int (integer)\n",
    "s = \"Was ist der Sinn des Lebens?\" # s hat den Datentyp str (String)\n",
    "type(x), type(s) # mit type() können wir uns den Datentyp einer Variable ausgeben lassen"
   ]
  },
  {
   "cell_type": "code",
   "execution_count": 3,
   "id": "40a7a7fa",
   "metadata": {},
   "outputs": [],
   "source": [
    "s = 5 "
   ]
  },
  {
   "cell_type": "markdown",
   "id": "1537e84b",
   "metadata": {},
   "source": [
    "**1.1. Aufgabe:** Lassen Sie sich den Datentyp von `s` erneut ausgeben. Welchen Datentyp hat die Variable jetzt? \n",
    "\n",
    "**Antwort:** Integer"
   ]
  },
  {
   "cell_type": "code",
   "execution_count": 4,
   "id": "65721c23-ea2f-4b37-9ef4-b77ac0ca6b40",
   "metadata": {},
   "outputs": [
    {
     "data": {
      "text/plain": [
       "int"
      ]
     },
     "execution_count": 4,
     "metadata": {},
     "output_type": "execute_result"
    }
   ],
   "source": [
    "type(s)"
   ]
  },
  {
   "cell_type": "markdown",
   "id": "a008212f",
   "metadata": {},
   "source": [
    "## 2. Typecasting\n",
    "Mit Hilfe von Typecasting können wir einen expliziten Datentyp festlegen:"
   ]
  },
  {
   "cell_type": "code",
   "execution_count": 30,
   "id": "5f5884ab",
   "metadata": {},
   "outputs": [],
   "source": [
    "x = str(42)    # x will be '42'\n",
    "y = int(42)    # y will be 42\n",
    "z = float(42)  # z will be 42.0"
   ]
  },
  {
   "cell_type": "markdown",
   "id": "e606f249",
   "metadata": {},
   "source": [
    "**2.1 Aufgabe:** Lassen Sie sich x, y, z mit Hilfe des `print()`-Befehls ausgeben. "
   ]
  },
  {
   "cell_type": "code",
   "execution_count": 31,
   "id": "941258d6",
   "metadata": {},
   "outputs": [
    {
     "name": "stdout",
     "output_type": "stream",
     "text": [
      "42 42 42.0\n"
     ]
    }
   ],
   "source": [
    "print(x, y, z)"
   ]
  },
  {
   "cell_type": "markdown",
   "id": "938f4578",
   "metadata": {},
   "source": [
    "## 3. Datentypen"
   ]
  },
  {
   "cell_type": "markdown",
   "id": "cfca7649",
   "metadata": {},
   "source": [
    "Übersicht von Datentypen, die für uns besonders relevant sind: \n",
    "\n",
    "- Text: `str`\n",
    "- Numeric: `int`, `float`\n",
    "- Sequence: `list`, `tuple`, `set`\n",
    "- Mapping: `dict`\n",
    "- Boolean: `bool`\n",
    "- None: `NoneType`\n",
    "\n",
    "#### Beispiele:"
   ]
  },
  {
   "cell_type": "code",
   "execution_count": 32,
   "id": "0c787941",
   "metadata": {},
   "outputs": [],
   "source": [
    "first_name = \"Elisabeth\" # string\n",
    "age = 39  # int\n",
    "height = 170.0 # float\n",
    "hobbies = ['cycling', 'gardening', 'cooking'] # Liste\n",
    "eye_colors = ('green', 'blue') # Tupel\n",
    "\n",
    "# Dictionary, key-value Paare, keys müssen einzigartig sein\n",
    "profile = {\n",
    "    'id': 1,\n",
    "    'first_name': 'Ada',\n",
    "    'email': 'ada@example.com',\n",
    "    'has_subscribed': True # boolean\n",
    "}\n",
    "\n",
    "colors = {'red', 'blue', 'yellow'} # Set, besteht aus einzigartigen Elementen, nicht veränderbar"
   ]
  },
  {
   "cell_type": "markdown",
   "id": "211f4dac",
   "metadata": {},
   "source": [
    "**3.1 Aufgabe:** Betrachten Sie die folgenden zwei Code-Zeilen. Was geschieht mit den Elementen aus der Liste `fruits` im zweiten Schritt?\n",
    "\n",
    "**Antwort:** -> Set -> einzigartige Liste von Elementen \n",
    "- Die Liste wird in ein Set umgewandelt\n",
    "- Ein Set enthält jedes Element nur einmal → doppelte Einträge (wie 'apple') werden automatisch entfernt\n",
    "- Datenstruktur verliert ihre Reihenfolge → ein Set ist ungeordnet"
   ]
  },
  {
   "cell_type": "code",
   "execution_count": 33,
   "id": "baaec8f1",
   "metadata": {},
   "outputs": [],
   "source": [
    "fruits = ['apple', 'banana', 'orange', 'raspberry', 'apple', 'lemon']\n",
    "fruits = set(fruits)"
   ]
  },
  {
   "cell_type": "code",
   "execution_count": 36,
   "id": "e91b2f8e-0ee8-48a5-a4af-a4b35638c618",
   "metadata": {},
   "outputs": [
    {
     "name": "stdout",
     "output_type": "stream",
     "text": [
      "{'lemon', 'apple', 'banana', 'orange', 'raspberry'}\n"
     ]
    }
   ],
   "source": [
    "print(fruits)"
   ]
  },
  {
   "cell_type": "code",
   "execution_count": 35,
   "id": "d3595e87",
   "metadata": {},
   "outputs": [
    {
     "data": {
      "text/plain": [
       "{'apple', 'banana', 'lemon', 'orange', 'raspberry'}"
      ]
     },
     "execution_count": 35,
     "metadata": {},
     "output_type": "execute_result"
    }
   ],
   "source": [
    "fruits"
   ]
  },
  {
   "cell_type": "markdown",
   "id": "3e3694a8",
   "metadata": {},
   "source": [
    "**3.2 Aufgabe:** Und was geschieht hier? \n",
    "\n",
    "**Antwort:**\n",
    "- Die Liste wird in ein Set umgewandelt → duplikate werden entfernt\n",
    "- in python: True wird als 1 behandelt, und False als 0.\n",
    "→ 1 und True gelten also als dasselbe Element in einem Set!\n"
   ]
  },
  {
   "cell_type": "code",
   "execution_count": 19,
   "id": "ad0f3942",
   "metadata": {},
   "outputs": [],
   "source": [
    "fruits = ['apple', 'banana', 1, True, 'apple', 'lemon']\n",
    "fruits = set(fruits)"
   ]
  },
  {
   "cell_type": "code",
   "execution_count": 20,
   "id": "b3932ffc-5758-4c62-a07b-b2a6835a6901",
   "metadata": {},
   "outputs": [
    {
     "name": "stdout",
     "output_type": "stream",
     "text": [
      "{'banana', 'lemon', 'apple', 1}\n"
     ]
    }
   ],
   "source": [
    "print(fruits)"
   ]
  },
  {
   "cell_type": "markdown",
   "id": "e1e0ac2a",
   "metadata": {},
   "source": [
    "**3.3 Aufgabe:**\n",
    "\n",
    "Erstellen Sie ein `dict` drei Ihrer Lieblingsbücher, -serien oder filme. \n",
    "\n",
    "Die `keys` sollen einstellige Integer-Werte von 1 bis 3 sein, die `values` die Titel als Strings. "
   ]
  },
  {
   "cell_type": "code",
   "execution_count": 38,
   "id": "c39fef74",
   "metadata": {},
   "outputs": [],
   "source": [
    "# Ihre Lösung: \n",
    "lieblingsbücher = {\n",
    "    1: \"Frei\",\n",
    "    2: \"Radio Sarajevo\",\n",
    "    3: \"Morgen, morgen, immer wieder morgen\"\n",
    "}"
   ]
  },
  {
   "cell_type": "code",
   "execution_count": 41,
   "id": "ee8eab77",
   "metadata": {},
   "outputs": [
    {
     "name": "stdout",
     "output_type": "stream",
     "text": [
      "Buch 1: Frei\n",
      "Buch 2: Radio Sarajevo\n",
      "Buch 3: Morgen, morgen, immer wieder morgen\n"
     ]
    }
   ],
   "source": [
    "for k, v in lieblingsbücher.items(): \n",
    "    print(f\"Buch {k}: {v}\")"
   ]
  },
  {
   "cell_type": "markdown",
   "id": "101e9299",
   "metadata": {},
   "source": [
    "## 4. `print()` + f-Strings\n",
    "\n",
    "Die `print()`-Funktion haben Sie bereits kennengelernt. \n",
    "\n",
    "Mit f-Strings können Sie Variablen in print-Ausgaben integrieren und diese formatieren:"
   ]
  },
  {
   "cell_type": "code",
   "execution_count": null,
   "id": "540deec6",
   "metadata": {},
   "outputs": [
    {
     "name": "stdout",
     "output_type": "stream",
     "text": [
      "My name is Alice and I'm 42 years old.\n",
      "I believe that  100.00 of people are NICE\n"
     ]
    }
   ],
   "source": [
    "first_name = \"Alice\"\n",
    "age = 42\n",
    "\n",
    "print(f\"My name is {first_name} and I'm {age} years old.\")\n",
    "\n",
    "percentage = 99.999\n",
    "adjective = 'nice'\n",
    "print(f\"I believe that {percentage: .2f} of people are {adjective.upper()}\")"
   ]
  },
  {
   "cell_type": "markdown",
   "id": "f0f58b4f",
   "metadata": {},
   "source": [
    "**4.1 Aufgabe:** \n",
    "\n",
    "Passen Sie den Code aus der vorherigen Zelle so an, dass die Prozentzahl mit 3 Nachkommastellen ausgegeben wird. \n",
    "\n",
    "Wählen Sie außerdem ein anderes Adjektiv, um die Satzbedeutung zu verändern. "
   ]
  },
  {
   "cell_type": "code",
   "execution_count": 42,
   "id": "1a8df004",
   "metadata": {},
   "outputs": [
    {
     "name": "stdout",
     "output_type": "stream",
     "text": [
      "My name is Alice and I'm 42 years old.\n",
      "I believe that  99.999 of people are GOOD\n"
     ]
    }
   ],
   "source": [
    "# Ihre Lösung: \n",
    "first_name = \"Alice\"\n",
    "age = 42\n",
    "\n",
    "print(f\"My name is {first_name} and I'm {age} years old.\")\n",
    "\n",
    "percentage = 99.999\n",
    "adjective = 'good'\n",
    "print(f\"I believe that {percentage: .3f} of people are {adjective.upper()}\")"
   ]
  },
  {
   "cell_type": "markdown",
   "id": "5af71f4d",
   "metadata": {},
   "source": [
    "## 5. Indentation\n",
    "\n",
    "Indentation (Einrückungen) sind ein zentrales Konzept in `Python`.\n",
    "Damit werden Code-Blöcke definiert, ggf. auch durch Mehrfacheinrückungen. \n",
    "\n",
    "Einrückungen werden laut Python-Styleguide mit vier Leerzeichen gesetzt, nicht mit der Tabulator-Taste. \n",
    "\n",
    "**5.1 Aufgabe:**  \n",
    "- Führen Sie den untenstehenden Code aus - was passiert? \n",
    "- Korrigieren Sie den Code, sodass er funktioniert. "
   ]
  },
  {
   "cell_type": "code",
   "execution_count": 43,
   "id": "8602b429",
   "metadata": {},
   "outputs": [
    {
     "name": "stdout",
     "output_type": "stream",
     "text": [
      "10 gummi bears left.\n",
      "Eating a gummi bear...\n",
      "9 gummi bears left.\n",
      "Eating a gummi bear...\n",
      "8 gummi bears left.\n",
      "Eating a gummi bear...\n",
      "7 gummi bears left.\n",
      "Eating a gummi bear...\n",
      "6 gummi bears left.\n",
      "Eating a gummi bear...\n",
      "5 gummi bears left.\n",
      "Eating a gummi bear...\n",
      "4 gummi bears left.\n",
      "Eating a gummi bear...\n",
      "3 gummi bears left.\n",
      "Eating a gummi bear...\n",
      "2 gummi bears left.\n",
      "Eating a gummi bear...\n",
      "1 gummi bears left.\n",
      "Eating a gummi bear...\n",
      "Oh no! No more gummi bears left :(\n"
     ]
    }
   ],
   "source": [
    "gummi_bear_count = 10\n",
    "\n",
    "while gummi_bear_count > 0: \n",
    "    print(f\"{gummi_bear_count} gummi bears left.\")\n",
    "    print(\"Eating a gummi bear...\")\n",
    "    gummi_bear_count -= 1\n",
    "    \n",
    "print(\"Oh no! No more gummi bears left :(\")"
   ]
  },
  {
   "cell_type": "markdown",
   "id": "20ce2543",
   "metadata": {},
   "source": [
    "## 6. Operatoren\n",
    "\n",
    "### Arithmetische Operatoren"
   ]
  },
  {
   "cell_type": "code",
   "execution_count": 10,
   "id": "054099b0",
   "metadata": {},
   "outputs": [
    {
     "data": {
      "text/plain": [
       "49"
      ]
     },
     "execution_count": 10,
     "metadata": {},
     "output_type": "execute_result"
    }
   ],
   "source": [
    "5 + 3 # Addition\n",
    "5 - 3 # Subtraktion\n",
    "5 * 3 # Multiplikation\n",
    "15 / 3 # Division\n",
    "100 % 2 # Modulus = Rest aus Division\n",
    "10 ** 2 # Potenzieren\n",
    "99 // 2 # Ganzzahlige Division"
   ]
  },
  {
   "cell_type": "markdown",
   "id": "baa05cda",
   "metadata": {},
   "source": [
    "### Zuweisungsoperatoren"
   ]
  },
  {
   "cell_type": "code",
   "execution_count": null,
   "id": "ca453296",
   "metadata": {},
   "outputs": [],
   "source": [
    "x = 3\n",
    "x += 3 # das Gleiche wie x = x + 3\n",
    "x -= 3 # das Gleiche wie x = x - 3\n",
    "# Funnktioniert auch mit den anderen arithmetischen Operatoren, z.B. x %= 2 usw. "
   ]
  },
  {
   "cell_type": "markdown",
   "id": "a86b2f90",
   "metadata": {},
   "source": [
    "**6.1 Aufgabe:**\n",
    "- Erzeugen Sie eine Variable `word1` mit dem Wert 'Joseph'. \n",
    "- Nutzen Sie einen geeigneten Zuweisungsoperator, um den Wert der Variable in 'Joseph Weizenbaum' zu ändern. \n",
    "- Kontrollieren Sie das Ergebnis mit der `print()`-Funktion."
   ]
  },
  {
   "cell_type": "code",
   "execution_count": 12,
   "id": "bf254ba9",
   "metadata": {},
   "outputs": [
    {
     "name": "stdout",
     "output_type": "stream",
     "text": [
      "Joseph Weizenbaum\n"
     ]
    }
   ],
   "source": [
    "# Ihre Lösung:\n",
    "word1 = \"Joseph\"\n",
    "word1 += \" Weizenbaum\"\n",
    "\n",
    "print(word1)"
   ]
  },
  {
   "cell_type": "markdown",
   "id": "6767672c",
   "metadata": {},
   "source": [
    "### Vergleichsoperatoren"
   ]
  },
  {
   "cell_type": "code",
   "execution_count": null,
   "id": "efa4f965",
   "metadata": {},
   "outputs": [
    {
     "data": {
      "text/plain": [
       "False"
      ]
     },
     "execution_count": 57,
     "metadata": {},
     "output_type": "execute_result"
    }
   ],
   "source": [
    "x = 1\n",
    "x = 1000\n",
    "\n",
    "x == y # gleich\n",
    "x != y # nicht gleich\n",
    "x > y # größer als\n",
    "x < y # kleiner als \n",
    "x >= y # größer-gleich\n",
    "x < y # kleiner-gleich"
   ]
  },
  {
   "cell_type": "markdown",
   "id": "07ec8ecb",
   "metadata": {},
   "source": [
    "### Logische Operatoren"
   ]
  },
  {
   "cell_type": "code",
   "execution_count": 185,
   "id": "76542934",
   "metadata": {},
   "outputs": [
    {
     "data": {
      "text/plain": [
       "False"
      ]
     },
     "execution_count": 185,
     "metadata": {},
     "output_type": "execute_result"
    }
   ],
   "source": [
    "x < 5 and x < 10 # True falls beide Statements True ergeben\n",
    "x < 5 or x < 4 # True falls eines der beiden Statements True ist\n",
    "not(x < 5 and x < 10) # Umkehrung des Ergebnisses, gibt False zurück wenn das Ergebnis True ist"
   ]
  },
  {
   "cell_type": "markdown",
   "id": "d1947e54",
   "metadata": {},
   "source": [
    "### Zugehörigkeitsoperatoren\n",
    "Zum überprüfen, ob eine Sequenz in einem Objekt enthalten ist.\n"
   ]
  },
  {
   "cell_type": "code",
   "id": "a62725c8",
   "metadata": {
    "ExecuteTime": {
     "end_time": "2025-10-20T11:54:36.691387Z",
     "start_time": "2025-10-20T11:54:36.689410Z"
    }
   },
   "source": [
    "pets = ['cat', 'dog', 'pony']\n",
    "x = 'dog'\n",
    "y = 'sloth'\n",
    "print(x in pets)"
   ],
   "outputs": [
    {
     "name": "stdout",
     "output_type": "stream",
     "text": [
      "True\n"
     ]
    }
   ],
   "execution_count": 2
  },
  {
   "cell_type": "markdown",
   "id": "b29281c4",
   "metadata": {},
   "source": [
    "**6.2 Aufgabe:** Schreiben Sie einen Ausdruck, der zurückgibt, ob sich die Variable `y` nicht in der Liste `pets` befindet. "
   ]
  },
  {
   "cell_type": "code",
   "id": "8d976418",
   "metadata": {
    "ExecuteTime": {
     "end_time": "2025-10-20T11:54:38.236664Z",
     "start_time": "2025-10-20T11:54:38.234742Z"
    }
   },
   "source": [
    "# Ihre Lösung:\n",
    "print(not(y in pets))"
   ],
   "outputs": [
    {
     "name": "stdout",
     "output_type": "stream",
     "text": [
      "True\n"
     ]
    }
   ],
   "execution_count": 3
  },
  {
   "cell_type": "markdown",
   "id": "0225b015",
   "metadata": {},
   "source": [
    "### Reihenfolge, Klammersetzung"
   ]
  },
  {
   "cell_type": "code",
   "id": "a23e6257",
   "metadata": {
    "ExecuteTime": {
     "end_time": "2025-10-20T11:55:03.994837Z",
     "start_time": "2025-10-20T11:55:03.991752Z"
    }
   },
   "source": [
    "(1 - 1) + (10  - 10) # Ausdrücke in Klammern werden zuerst ausgewertet"
   ],
   "outputs": [
    {
     "data": {
      "text/plain": [
       "0"
      ]
     },
     "execution_count": 4,
     "metadata": {},
     "output_type": "execute_result"
    }
   ],
   "execution_count": 4
  },
  {
   "cell_type": "code",
   "id": "c904320d",
   "metadata": {
    "ExecuteTime": {
     "end_time": "2025-10-20T11:55:10.952850Z",
     "start_time": "2025-10-20T11:55:10.950208Z"
    }
   },
   "source": [
    "3 - 10 * 5 # Multiplikation wird vor Subtraktion ausgeführt"
   ],
   "outputs": [
    {
     "data": {
      "text/plain": [
       "-47"
      ]
     },
     "execution_count": 5,
     "metadata": {},
     "output_type": "execute_result"
    }
   ],
   "execution_count": 5
  },
  {
   "cell_type": "markdown",
   "id": "cdd1c8b9",
   "metadata": {},
   "source": [
    "**6.3 Aufgabe**: Verändern Sie die vorherige Zeile so, dass zuerst die Subtraktion ausgeführt wird, dann die Multiplikation."
   ]
  },
  {
   "cell_type": "code",
   "id": "50e37c9d",
   "metadata": {
    "ExecuteTime": {
     "end_time": "2025-10-20T11:55:12.365546Z",
     "start_time": "2025-10-20T11:55:12.362706Z"
    }
   },
   "source": [
    "(3 - 10) * 5"
   ],
   "outputs": [
    {
     "data": {
      "text/plain": [
       "-35"
      ]
     },
     "execution_count": 6,
     "metadata": {},
     "output_type": "execute_result"
    }
   ],
   "execution_count": 6
  },
  {
   "cell_type": "markdown",
   "id": "52ad0ca0",
   "metadata": {},
   "source": [
    "## 7. Kontrollstrukturen"
   ]
  },
  {
   "cell_type": "markdown",
   "id": "581f6e1c",
   "metadata": {},
   "source": [
    "### Bedingte Anweisungen: `if`, `elif`, `else`"
   ]
  },
  {
   "cell_type": "code",
   "id": "4e8a9b14",
   "metadata": {
    "ExecuteTime": {
     "end_time": "2025-10-20T11:55:38.158642Z",
     "start_time": "2025-10-20T11:55:38.156798Z"
    }
   },
   "source": [
    "is_raining = True\n",
    "is_sunny = False\n",
    "\n",
    "if is_raining: \n",
    "    print(\"Don't forget to take your umbrella!\")\n",
    "elif is_sunny:\n",
    "    print(\"Don't forget to take your sun glasses!\")\n",
    "else: \n",
    "    print(\"Have a nice day!\")"
   ],
   "outputs": [
    {
     "name": "stdout",
     "output_type": "stream",
     "text": [
      "Don't forget to take your umbrella!\n"
     ]
    }
   ],
   "execution_count": 9
  },
  {
   "cell_type": "markdown",
   "id": "3c8de1b8",
   "metadata": {},
   "source": [
    "**7.1 Aufgabe:** \n",
    "- Fügen Sie dem obigen Code eine weitere Boolesche Variable für wechselhaftes Wetter hinzu. \n",
    "- Passen Sie den Code so an, dass er für den Fall von wechselhaftem Wetter ebenfalls eine passende Aufforderung ausgibt. "
   ]
  },
  {
   "cell_type": "code",
   "id": "0b5f4054",
   "metadata": {
    "ExecuteTime": {
     "end_time": "2025-10-20T11:58:02.269385Z",
     "start_time": "2025-10-20T11:58:02.258468Z"
    }
   },
   "source": [
    "is_raining = False\n",
    "is_sunny = False\n",
    "is_changeable = True\n",
    "\n",
    "if is_raining: \n",
    "    print(\"Don't forget to take your umbrella!\")\n",
    "elif is_sunny:\n",
    "    print(\"Don't forget to take your sun glasses!\")\n",
    "elif is_changeable:\n",
    "    print(\"The weather is changeable, better be prepared!\")\n",
    "else: \n",
    "    print(\"Have a nice day!\")"
   ],
   "outputs": [
    {
     "name": "stdout",
     "output_type": "stream",
     "text": [
      "The weather is changeable, better be prepared!\n"
     ]
    }
   ],
   "execution_count": 10
  },
  {
   "cell_type": "markdown",
   "id": "a0429e39",
   "metadata": {},
   "source": [
    "## 8. Schleifen\n",
    "\n",
    "#### `for`-Schleifen"
   ]
  },
  {
   "cell_type": "code",
   "id": "c726a00d",
   "metadata": {
    "ExecuteTime": {
     "end_time": "2025-10-20T11:58:31.308013Z",
     "start_time": "2025-10-20T11:58:31.305594Z"
    }
   },
   "source": [
    "for word in ['the', 'brown', 'fox', 'jumps', 'over', 'the', 'lazy', 'dog']:\n",
    "    print(word)"
   ],
   "outputs": [
    {
     "name": "stdout",
     "output_type": "stream",
     "text": [
      "the\n",
      "brown\n",
      "fox\n",
      "jumps\n",
      "over\n",
      "the\n",
      "lazy\n",
      "dog\n"
     ]
    }
   ],
   "execution_count": 11
  },
  {
   "cell_type": "markdown",
   "id": "355bbbfb",
   "metadata": {},
   "source": [
    "#### `for`-Schleife in Kombination mit `range()`"
   ]
  },
  {
   "cell_type": "code",
   "id": "463ef904",
   "metadata": {
    "ExecuteTime": {
     "end_time": "2025-10-20T11:58:53.807921Z",
     "start_time": "2025-10-20T11:58:53.805969Z"
    }
   },
   "source": [
    "# Beachten Sie: Der obere Wert wird exkludiert. \n",
    "for x in range(4):\n",
    "    print(x)"
   ],
   "outputs": [
    {
     "name": "stdout",
     "output_type": "stream",
     "text": [
      "0\n",
      "1\n",
      "2\n",
      "3\n"
     ]
    }
   ],
   "execution_count": 14
  },
  {
   "cell_type": "markdown",
   "id": "04abd967",
   "metadata": {},
   "source": [
    "#### Iterieren über die `key-value` Paare eines Dictionaries"
   ]
  },
  {
   "cell_type": "code",
   "id": "3e4a4629",
   "metadata": {
    "ExecuteTime": {
     "end_time": "2025-10-20T11:59:36.191312Z",
     "start_time": "2025-10-20T11:59:36.189149Z"
    }
   },
   "source": [
    "colors = {\n",
    "    1: 'blue',\n",
    "    2: 'red',\n",
    "    3: 'yellow'\n",
    "}\n",
    "\n",
    "for key, value in colors.items():\n",
    "    print(key, value)"
   ],
   "outputs": [
    {
     "name": "stdout",
     "output_type": "stream",
     "text": [
      "1 blue\n",
      "2 red\n",
      "3 yellow\n"
     ]
    }
   ],
   "execution_count": 15
  },
  {
   "cell_type": "markdown",
   "id": "7404d127",
   "metadata": {},
   "source": [
    "### List comprehension"
   ]
  },
  {
   "cell_type": "code",
   "id": "a279b025",
   "metadata": {
    "ExecuteTime": {
     "end_time": "2025-10-20T12:08:28.452050Z",
     "start_time": "2025-10-20T12:08:28.449206Z"
    }
   },
   "source": [
    "# Ermöglicht kurze, elegante Syntax für Iteration über eine Liste\n",
    "characters = ['f', 'o', 'x']\n",
    "print([c for c in characters])"
   ],
   "outputs": [
    {
     "name": "stdout",
     "output_type": "stream",
     "text": [
      "['f', 'o', 'x']\n"
     ]
    }
   ],
   "execution_count": 25
  },
  {
   "cell_type": "markdown",
   "id": "a36fbee7",
   "metadata": {},
   "source": [
    "#### `while`-Schleifen"
   ]
  },
  {
   "cell_type": "code",
   "id": "eca9b195",
   "metadata": {
    "ExecuteTime": {
     "end_time": "2025-10-20T12:08:37.864663Z",
     "start_time": "2025-10-20T12:08:37.862463Z"
    }
   },
   "source": [
    "i = 0\n",
    "\n",
    "while i < 5:\n",
    "    print(i)\n",
    "    i += 1"
   ],
   "outputs": [
    {
     "name": "stdout",
     "output_type": "stream",
     "text": [
      "0\n",
      "1\n",
      "2\n",
      "3\n",
      "4\n"
     ]
    }
   ],
   "execution_count": 26
  },
  {
   "cell_type": "markdown",
   "id": "df93f288",
   "metadata": {},
   "source": [
    "## 9. Funktionen\n",
    "Funktionen werden in `Python` mit dem Schlüsselwort `def` definiert, gefolgt vom Namen der Funktion mit Klammern `()` und einem Doppelpunkt `:`"
   ]
  },
  {
   "cell_type": "code",
   "id": "268b66df",
   "metadata": {
    "ExecuteTime": {
     "end_time": "2025-10-20T12:11:21.977463Z",
     "start_time": "2025-10-20T12:11:21.972778Z"
    }
   },
   "source": [
    "def get_char_count(s):\n",
    "    \"\"\"\n",
    "    Print and return how many characters string 's' has.\n",
    "    \"\"\"\n",
    "    char_count = len(s) # Wir nutzen hier die bereits existierende Funktion len()\n",
    "    print(f\"String '{s}' has {char_count} characters.\")\n",
    "    return s"
   ],
   "outputs": [],
   "execution_count": 27
  },
  {
   "cell_type": "markdown",
   "id": "6656fa52",
   "metadata": {},
   "source": [
    "Funktionen können mit Hilfe des `return` Schlüsselworts Werte zurückgeben, die wir Variablen zuweisen können, um dann damit weiter zu arbeiten."
   ]
  },
  {
   "cell_type": "code",
   "id": "261696d6",
   "metadata": {
    "ExecuteTime": {
     "end_time": "2025-10-20T12:11:53.611798Z",
     "start_time": "2025-10-20T12:11:53.610100Z"
    }
   },
   "source": [
    "# Hier wird der Variable c_count der Wert zurückgegeben, die die Funktion char_count() für den Eingabewert 'fox' zurückgibt. \n",
    "c_count = get_char_count(\"fox\")"
   ],
   "outputs": [
    {
     "name": "stdout",
     "output_type": "stream",
     "text": [
      "String 'fox' has 3 characters.\n"
     ]
    }
   ],
   "execution_count": 30
  },
  {
   "cell_type": "markdown",
   "id": "df3476b6",
   "metadata": {},
   "source": [
    "### Default-Argumente in Funktionen\n",
    "Mit Hilfe von Default-Argumenten können wir Standard-Werte für bestimmte Parameter festlegen. \n",
    "\n",
    "Beim Aufruf der Funktion muss dieser Wert nicht übergeben werden. \n",
    "\n",
    "Wir können ihn aber durch explizite Zuweisung überschreiben. "
   ]
  },
  {
   "cell_type": "code",
   "id": "af3ee5aa",
   "metadata": {
    "ExecuteTime": {
     "end_time": "2025-10-20T12:16:16.894870Z",
     "start_time": "2025-10-20T12:16:16.889764Z"
    }
   },
   "source": [
    "def calculate_total(item_prices, discount=False, discount_rate=0.2):\n",
    "    \"\"\"\n",
    "    Calculate total of order purchases, apply discount if applicable.\n",
    "    \"\"\"\n",
    "    # Hier nutzen wir die bereits existierende Funktion sum(), um alle Preise zu addieren\n",
    "    total = sum(item_prices)\n",
    "    if discount: \n",
    "        total = total - total * discount_rate\n",
    "    return total"
   ],
   "outputs": [],
   "execution_count": 31
  },
  {
   "cell_type": "code",
   "id": "0f558d32",
   "metadata": {
    "ExecuteTime": {
     "end_time": "2025-10-20T12:16:19.131297Z",
     "start_time": "2025-10-20T12:16:19.128289Z"
    }
   },
   "source": [
    "item_prices = [10, 20, 70]\n",
    "calculate_total(item_prices)"
   ],
   "outputs": [
    {
     "data": {
      "text/plain": [
       "100"
      ]
     },
     "execution_count": 32,
     "metadata": {},
     "output_type": "execute_result"
    }
   ],
   "execution_count": 32
  },
  {
   "cell_type": "markdown",
   "id": "36b16878",
   "metadata": {},
   "source": [
    "**9.1 Aufgabe:** \n",
    "- Rufen Sie die Funktion `calculate_total()` so auf, dass ein Rabatt gewährt wird.\n",
    "- Als nächstes verändern Sie den Rabatt so, dass 30% Rabatt gewährt werden. "
   ]
  },
  {
   "cell_type": "code",
   "id": "19b92d19",
   "metadata": {
    "ExecuteTime": {
     "end_time": "2025-10-20T12:17:15.653662Z",
     "start_time": "2025-10-20T12:17:15.650725Z"
    }
   },
   "source": [
    "# Ihre Lösung:\n",
    "# mit Rabatt\n",
    "calculate_total(item_prices, discount=True)"
   ],
   "outputs": [
    {
     "data": {
      "text/plain": [
       "80.0"
      ]
     },
     "execution_count": 33,
     "metadata": {},
     "output_type": "execute_result"
    }
   ],
   "execution_count": 33
  },
  {
   "metadata": {
    "ExecuteTime": {
     "end_time": "2025-10-20T12:18:04.113088Z",
     "start_time": "2025-10-20T12:18:04.110468Z"
    }
   },
   "cell_type": "code",
   "source": [
    "# 30% Rabatt\n",
    "calculate_total(item_prices, discount=True, discount_rate=0.3)"
   ],
   "id": "a1887edf883cbd0e",
   "outputs": [
    {
     "data": {
      "text/plain": [
       "70.0"
      ]
     },
     "execution_count": 34,
     "metadata": {},
     "output_type": "execute_result"
    }
   ],
   "execution_count": 34
  },
  {
   "cell_type": "markdown",
   "id": "6cf793be",
   "metadata": {},
   "source": [
    "**9.2 Aufgabe:** \n",
    "\n",
    "- Schreiben Sie eine eigene Funktion, die überprüft, ob ein Wort `w` in einer Liste von Tokens `tokens` enthalten ist. \n",
    "\n",
    "- Das Wort ebenso wie die Token-Liste werden der Funktion als Parameter übergeben. \n",
    "\n",
    "- Die Funktion soll als Rückgabewert True geben, wenn das Wort in der Token-Liste enthalten ist, sonst False. \n",
    "\n",
    "- Zudem soll die Funktion eine entsprechende `print()`-Ausgabe liefern, wenn der Parameter `print_result` `True` ist.\n",
    "\n",
    "- Der Default-Wert des Parameters `print_result` soll `False` sein. \n",
    "\n",
    "- Denken Sie daran, einen Docstring hinzuzufügen. \n",
    "\n",
    "- Rufen Sie die Funktion mit Beispielwerten auf. \n",
    "\n"
   ]
  },
  {
   "metadata": {
    "ExecuteTime": {
     "end_time": "2025-10-20T12:34:29.332093Z",
     "start_time": "2025-10-20T12:34:29.329621Z"
    }
   },
   "cell_type": "code",
   "source": [
    "def contains_word(w, tokens, print_result=False):\n",
    "    \"\"\"\n",
    "    Check whether word w is contained in a list of tokens.\n",
    "    \"\"\"\n",
    "    result = w in tokens\n",
    "    if print_result:\n",
    "        if result:\n",
    "            print(f\"The word {w} is in the list of tokens.\")\n",
    "        else:\n",
    "            print(f\"The word {w} is not in the list of tokens.\")\n",
    "    return result"
   ],
   "id": "b29e0e4deb4c5f1a",
   "outputs": [],
   "execution_count": 57
  },
  {
   "metadata": {
    "ExecuteTime": {
     "end_time": "2025-10-20T12:34:30.630275Z",
     "start_time": "2025-10-20T12:34:30.626981Z"
    }
   },
   "cell_type": "code",
   "source": [
    "tokens = [\"cat\", \"dog\", \"rabbit\", \"mouse\"]\n",
    "contains_word(\"cat\", tokens, print_result=True)"
   ],
   "id": "d26bba7c1fdf405f",
   "outputs": [
    {
     "name": "stdout",
     "output_type": "stream",
     "text": [
      "The word cat is in the list of tokens.\n"
     ]
    },
    {
     "data": {
      "text/plain": [
       "True"
      ]
     },
     "execution_count": 58,
     "metadata": {},
     "output_type": "execute_result"
    }
   ],
   "execution_count": 58
  },
  {
   "metadata": {
    "ExecuteTime": {
     "end_time": "2025-10-20T12:34:31.809523Z",
     "start_time": "2025-10-20T12:34:31.806627Z"
    }
   },
   "cell_type": "code",
   "source": "contains_word(\"tiger\", tokens, print_result=True)",
   "id": "d91b0ded0984feb1",
   "outputs": [
    {
     "name": "stdout",
     "output_type": "stream",
     "text": [
      "The word tiger is not in the list of tokens.\n"
     ]
    },
    {
     "data": {
      "text/plain": [
       "False"
      ]
     },
     "execution_count": 59,
     "metadata": {},
     "output_type": "execute_result"
    }
   ],
   "execution_count": 59
  },
  {
   "metadata": {
    "ExecuteTime": {
     "end_time": "2025-10-20T12:34:54.742523Z",
     "start_time": "2025-10-20T12:34:54.739892Z"
    }
   },
   "cell_type": "code",
   "source": "contains_word(\"cat\", tokens)\n",
   "id": "784b7891aad9ae6d",
   "outputs": [
    {
     "data": {
      "text/plain": [
       "True"
      ]
     },
     "execution_count": 60,
     "metadata": {},
     "output_type": "execute_result"
    }
   ],
   "execution_count": 60
  },
  {
   "cell_type": "markdown",
   "id": "62e6b8a8",
   "metadata": {},
   "source": [
    "## 10. Klassen\n",
    "`Python` ermöglicht auch die Arbeit mit Klassen. \n",
    "\n",
    "Für unseren Kurs benötigen wir dies erstmal nicht, bei Bedarf schauen wir uns das zu einem späteren Zeitpunkt an. \n",
    "\n",
    "Hier ein kleines Beispiel:"
   ]
  },
  {
   "cell_type": "code",
   "id": "7f1dc44f",
   "metadata": {
    "ExecuteTime": {
     "end_time": "2025-10-20T12:35:27.384009Z",
     "start_time": "2025-10-20T12:35:27.380892Z"
    }
   },
   "source": [
    "class Person:\n",
    "  def __init__(self, name, age):\n",
    "    self.name = name\n",
    "    self.age = age\n",
    "\n",
    "  def print_name(self):\n",
    "    print(\"Hello my name is \" + self.name)\n",
    "\n",
    "p1 = Person(\"Ada\", 36)\n",
    "p1.print_name()"
   ],
   "outputs": [
    {
     "name": "stdout",
     "output_type": "stream",
     "text": [
      "Hello my name is Ada\n"
     ]
    }
   ],
   "execution_count": 61
  },
  {
   "cell_type": "markdown",
   "id": "71a5e28b",
   "metadata": {},
   "source": [
    "## 11. Arbeiten mit Listen"
   ]
  },
  {
   "cell_type": "markdown",
   "id": "326e8ffa",
   "metadata": {},
   "source": [
    "### Listen\n",
    "\n",
    "Mit Hilfe von Listen können wir mehrere Items innerhalb einer Variable speichern. \n",
    "\n",
    "Listen sind geordnet (d.h. die enthaltenen Elemente haben eine bestimmte Reihenfolge). \n",
    "\n",
    "Listen sind veränderbar und es können Duplikate darin vorkommen.  \n",
    "\n",
    "Listen können Elemente verschiedener Datentypen beinhalten. "
   ]
  },
  {
   "cell_type": "markdown",
   "id": "516c6017",
   "metadata": {},
   "source": [
    "### Indexing\n"
   ]
  },
  {
   "cell_type": "code",
   "id": "d037f422",
   "metadata": {
    "ExecuteTime": {
     "end_time": "2025-10-20T12:38:43.060821Z",
     "start_time": "2025-10-20T12:38:43.057183Z"
    }
   },
   "source": [
    "colors = ['red', 'yellow', 'blue']\n",
    "\n",
    "# Mit Hilfe von [index] können wir auf bestimmte Elemente einer Liste zugreifen. \n",
    "# z.B. colors[1]"
   ],
   "outputs": [],
   "execution_count": 65
  },
  {
   "cell_type": "markdown",
   "id": "1f33bfb4",
   "metadata": {},
   "source": [
    "**11.1 Aufgabe:** Lassen sie sich das Element am Index 1 und am Index -1 der Liste `colors` ausgeben. Was passiert? "
   ]
  },
  {
   "cell_type": "code",
   "id": "8ef9f915",
   "metadata": {
    "ExecuteTime": {
     "end_time": "2025-10-20T12:38:44.617907Z",
     "start_time": "2025-10-20T12:38:44.615293Z"
    }
   },
   "source": [
    "# Ihre Lösung:\n",
    "print(colors[1])"
   ],
   "outputs": [
    {
     "name": "stdout",
     "output_type": "stream",
     "text": [
      "yellow\n"
     ]
    }
   ],
   "execution_count": 66
  },
  {
   "metadata": {
    "ExecuteTime": {
     "end_time": "2025-10-20T12:38:47.812832Z",
     "start_time": "2025-10-20T12:38:47.810504Z"
    }
   },
   "cell_type": "code",
   "source": "print(colors[-1])",
   "id": "2c69ec3edcb4463c",
   "outputs": [
    {
     "name": "stdout",
     "output_type": "stream",
     "text": [
      "blue\n"
     ]
    }
   ],
   "execution_count": 67
  },
  {
   "cell_type": "markdown",
   "id": "4b09e0b9",
   "metadata": {},
   "source": [
    "**Antwort:**\n",
    "- Index 1: Python-Listen sind nullbasiert.\n",
    "- Index -1: Negative Indizes zählen von hinten. -1 ist also das letzte Element der Liste."
   ]
  },
  {
   "cell_type": "markdown",
   "id": "8d826493",
   "metadata": {},
   "source": [
    "### Index-Slicing\n",
    "Index-Bereiche können mit `[start:stop:step]` Syntax aufgerufen werden. Dabei müssen nicht immer alle Werte definiert werden. \n",
    "\n",
    "**11.2 Aufgabe:** Beschreiben Sie mit eigenen Worten, was in den folgenden Zeilen passiert, *bevor* Sie sie ausführen. "
   ]
  },
  {
   "cell_type": "code",
   "id": "81dade43",
   "metadata": {
    "ExecuteTime": {
     "end_time": "2025-10-20T12:40:30.142933Z",
     "start_time": "2025-10-20T12:40:30.136223Z"
    }
   },
   "source": [
    "colors[:3]"
   ],
   "outputs": [
    {
     "data": {
      "text/plain": [
       "['red', 'yellow', 'blue']"
      ]
     },
     "execution_count": 68,
     "metadata": {},
     "output_type": "execute_result"
    }
   ],
   "execution_count": 68
  },
  {
   "cell_type": "markdown",
   "id": "d0d8a5f5",
   "metadata": {},
   "source": [
    "**Antwort:**\n",
    "- start fehlt → beginnt bei Index 0.\n",
    "- stop = 3 → endet vor Index 3 (also Index 0, 1, 2).\n",
    "- Schrittweite = 1 (Standard)."
   ]
  },
  {
   "cell_type": "code",
   "id": "744ea978",
   "metadata": {
    "ExecuteTime": {
     "end_time": "2025-10-20T12:41:37.734938Z",
     "start_time": "2025-10-20T12:41:37.732764Z"
    }
   },
   "source": [
    "colors[1:3:2]"
   ],
   "outputs": [
    {
     "data": {
      "text/plain": [
       "['yellow']"
      ]
     },
     "execution_count": 69,
     "metadata": {},
     "output_type": "execute_result"
    }
   ],
   "execution_count": 69
  },
  {
   "cell_type": "markdown",
   "id": "3883d60a",
   "metadata": {},
   "source": [
    "**Antwort:**\n",
    "- startet bein Index 1 (yellow), stoppt beim Index 3, in 2 Steps"
   ]
  },
  {
   "cell_type": "code",
   "id": "923ea881",
   "metadata": {
    "ExecuteTime": {
     "end_time": "2025-10-20T12:41:43.591182Z",
     "start_time": "2025-10-20T12:41:43.568630Z"
    }
   },
   "source": [
    "colors[3]"
   ],
   "outputs": [
    {
     "ename": "IndexError",
     "evalue": "list index out of range",
     "output_type": "error",
     "traceback": [
      "\u001B[31m---------------------------------------------------------------------------\u001B[39m",
      "\u001B[31mIndexError\u001B[39m                                Traceback (most recent call last)",
      "\u001B[36mCell\u001B[39m\u001B[36m \u001B[39m\u001B[32mIn[70]\u001B[39m\u001B[32m, line 1\u001B[39m\n\u001B[32m----> \u001B[39m\u001B[32m1\u001B[39m \u001B[43mcolors\u001B[49m\u001B[43m[\u001B[49m\u001B[32;43m3\u001B[39;49m\u001B[43m]\u001B[49m\n",
      "\u001B[31mIndexError\u001B[39m: list index out of range"
     ]
    }
   ],
   "execution_count": 70
  },
  {
   "cell_type": "markdown",
   "id": "94dc5212",
   "metadata": {},
   "source": [
    "**Antwort:**\n",
    "- Index 3 gibt es nicht"
   ]
  },
  {
   "cell_type": "code",
   "execution_count": null,
   "id": "5b1fd610",
   "metadata": {},
   "outputs": [],
   "source": [
    "colors[::-1]"
   ]
  },
  {
   "cell_type": "markdown",
   "id": "4a834d26",
   "metadata": {},
   "source": [
    "**Antwort:**"
   ]
  },
  {
   "cell_type": "markdown",
   "id": "5e6bb9e1",
   "metadata": {},
   "source": [
    "#### Elemente zu einer Liste hinzufügen mit `insert()`, `append()`"
   ]
  },
  {
   "cell_type": "code",
   "id": "4fc9f591",
   "metadata": {
    "ExecuteTime": {
     "end_time": "2025-10-20T12:44:00.913472Z",
     "start_time": "2025-10-20T12:44:00.908533Z"
    }
   },
   "source": [
    "colors = ['red', 'blue', 'yellow']\n",
    "colors.insert(0, 'apricot') # 0 = Index, an dem das neue Element hinzugefügt werden soll\n",
    "print(colors)"
   ],
   "outputs": [
    {
     "name": "stdout",
     "output_type": "stream",
     "text": [
      "['apricot', 'red', 'blue', 'yellow']\n"
     ]
    }
   ],
   "execution_count": 71
  },
  {
   "cell_type": "code",
   "id": "07197eb1",
   "metadata": {
    "ExecuteTime": {
     "end_time": "2025-10-20T12:44:13.324658Z",
     "start_time": "2025-10-20T12:44:13.322856Z"
    }
   },
   "source": [
    "colors = ['red', 'blue', 'yellow']\n",
    "colors.append('apricot')\n",
    "print(colors)"
   ],
   "outputs": [
    {
     "name": "stdout",
     "output_type": "stream",
     "text": [
      "['red', 'blue', 'yellow', 'apricot']\n"
     ]
    }
   ],
   "execution_count": 72
  },
  {
   "cell_type": "markdown",
   "id": "38f0bb92",
   "metadata": {},
   "source": [
    "### Listen joinen"
   ]
  },
  {
   "cell_type": "code",
   "id": "aa56b93f",
   "metadata": {
    "ExecuteTime": {
     "end_time": "2025-10-20T12:44:19.784145Z",
     "start_time": "2025-10-20T12:44:19.779869Z"
    }
   },
   "source": [
    "numbers = [4, 1, 5]\n",
    "numbers2 = [4, 2, 3]\n",
    "numbers + numbers2"
   ],
   "outputs": [
    {
     "data": {
      "text/plain": [
       "[4, 1, 5, 4, 2, 3]"
      ]
     },
     "execution_count": 73,
     "metadata": {},
     "output_type": "execute_result"
    }
   ],
   "execution_count": 73
  },
  {
   "cell_type": "markdown",
   "id": "a73272ce",
   "metadata": {},
   "source": [
    "### Listen sortieren"
   ]
  },
  {
   "cell_type": "code",
   "id": "07195d47",
   "metadata": {
    "ExecuteTime": {
     "end_time": "2025-10-20T12:44:29.490255Z",
     "start_time": "2025-10-20T12:44:29.487956Z"
    }
   },
   "source": [
    "sorted(numbers + numbers2)"
   ],
   "outputs": [
    {
     "data": {
      "text/plain": [
       "[1, 2, 3, 4, 4, 5]"
      ]
     },
     "execution_count": 74,
     "metadata": {},
     "output_type": "execute_result"
    }
   ],
   "execution_count": 74
  },
  {
   "cell_type": "markdown",
   "id": "6d2ff2e2",
   "metadata": {},
   "source": [
    "## 12. Arbeiten mit Dictionaries\n",
    "\n",
    "In Dictionaries können wir key-value Paare speichern. \n",
    "\n",
    "Dictionaries sind ebenso wie Listen geordnet und veränderbar.\n",
    "\n",
    "Aber anders als Listen erlauben Dictionaries keine Duplikate - die `keys` eines Dictionaries können also nicht doppelt vorkommen. "
   ]
  },
  {
   "cell_type": "code",
   "id": "302d5f86",
   "metadata": {
    "ExecuteTime": {
     "end_time": "2025-10-20T12:45:45.215862Z",
     "start_time": "2025-10-20T12:45:45.205969Z"
    }
   },
   "source": [
    "post = {\n",
    "    'post_id': 123456,\n",
    "    'creator': 'user95',\n",
    "    'text': 'Having such a great time here in Italy!',\n",
    "    'likes': 30\n",
    "}"
   ],
   "outputs": [],
   "execution_count": 75
  },
  {
   "cell_type": "markdown",
   "id": "fa5d97ff",
   "metadata": {},
   "source": [
    "#### Zugriff auf keys, values, items"
   ]
  },
  {
   "cell_type": "code",
   "id": "78693e11",
   "metadata": {
    "ExecuteTime": {
     "end_time": "2025-10-20T12:45:55.685109Z",
     "start_time": "2025-10-20T12:45:55.681948Z"
    }
   },
   "source": [
    "post.keys()"
   ],
   "outputs": [
    {
     "data": {
      "text/plain": [
       "dict_keys(['post_id', 'creator', 'text', 'likes'])"
      ]
     },
     "execution_count": 76,
     "metadata": {},
     "output_type": "execute_result"
    }
   ],
   "execution_count": 76
  },
  {
   "cell_type": "code",
   "id": "52f797f8",
   "metadata": {
    "ExecuteTime": {
     "end_time": "2025-10-20T12:46:09.831405Z",
     "start_time": "2025-10-20T12:46:09.828107Z"
    }
   },
   "source": [
    "post.values()"
   ],
   "outputs": [
    {
     "data": {
      "text/plain": [
       "dict_values([123456, 'user95', 'Having such a great time here in Italy!', 30])"
      ]
     },
     "execution_count": 77,
     "metadata": {},
     "output_type": "execute_result"
    }
   ],
   "execution_count": 77
  },
  {
   "cell_type": "code",
   "id": "c795d64c",
   "metadata": {
    "ExecuteTime": {
     "end_time": "2025-10-20T12:46:14.093029Z",
     "start_time": "2025-10-20T12:46:14.090166Z"
    }
   },
   "source": [
    "post.items()"
   ],
   "outputs": [
    {
     "data": {
      "text/plain": [
       "dict_items([('post_id', 123456), ('creator', 'user95'), ('text', 'Having such a great time here in Italy!'), ('likes', 30)])"
      ]
     },
     "execution_count": 78,
     "metadata": {},
     "output_type": "execute_result"
    }
   ],
   "execution_count": 78
  },
  {
   "cell_type": "markdown",
   "id": "ad47015e",
   "metadata": {},
   "source": [
    "#### Zugriff auf einzelne Einträge"
   ]
  },
  {
   "cell_type": "code",
   "id": "3d40fc49",
   "metadata": {
    "ExecuteTime": {
     "end_time": "2025-10-20T12:46:27.014614Z",
     "start_time": "2025-10-20T12:46:27.011448Z"
    }
   },
   "source": [
    "post['creator']"
   ],
   "outputs": [
    {
     "data": {
      "text/plain": [
       "'user95'"
      ]
     },
     "execution_count": 79,
     "metadata": {},
     "output_type": "execute_result"
    }
   ],
   "execution_count": 79
  },
  {
   "cell_type": "markdown",
   "id": "4a8feb53",
   "metadata": {},
   "source": [
    "#### Hinzufügen neuer Werte"
   ]
  },
  {
   "cell_type": "code",
   "id": "ae69fa9b",
   "metadata": {
    "ExecuteTime": {
     "end_time": "2025-10-20T12:46:36.910031Z",
     "start_time": "2025-10-20T12:46:36.907773Z"
    }
   },
   "source": [
    "post['toxicity_score'] =  0.3"
   ],
   "outputs": [],
   "execution_count": 80
  },
  {
   "metadata": {
    "ExecuteTime": {
     "end_time": "2025-10-20T12:46:56.663440Z",
     "start_time": "2025-10-20T12:46:56.660026Z"
    }
   },
   "cell_type": "code",
   "source": "post.items()",
   "id": "805113927cff31f7",
   "outputs": [
    {
     "data": {
      "text/plain": [
       "dict_items([('post_id', 123456), ('creator', 'user95'), ('text', 'Having such a great time here in Italy!'), ('likes', 30), ('toxicity_score', 0.3)])"
      ]
     },
     "execution_count": 81,
     "metadata": {},
     "output_type": "execute_result"
    }
   ],
   "execution_count": 81
  },
  {
   "cell_type": "markdown",
   "id": "6536804d",
   "metadata": {},
   "source": [
    "## 13. Coding Style\n",
    "\n",
    "Für Python hat sich PEP8 als Style-Guide entwickelt. Dieser beinhaltet u.a. die folgenden Best Practices - diese haben keinen Einfluss auf die Funktionalität des Codes, aber Sie verbessern damit die Lesbarkeit Ihres Codes, für sich selbst und für andere: \n",
    "\n",
    "- Nutzen Sie 4-Leerzeichen zur Einrückung, nicht den Tabulator. \n",
    "- Code-Zeilen sollten nicht länger als 79 Zeichen sein (die meisten IDEs zeigen es an, wenn eine Zeile zu lang ist.)\n",
    "- Nutzen Sie Leerzeichen, um Funktionen, Klassen und größere Code-Blöcke innerhalb von Funktionen abzusetzen.\n",
    "- Wenn möglich, sollten Kommentare in einer eigenen Zeile stehen. \n",
    "- Verwenden Sie Docstrings.\n",
    "- Verwenden Sie Leerzeichen rund um Operatoren und nach Kommata, aber nicht direkt nach einer Klammer:  `a = f(1, 2) + g(3, 4)`\n",
    "- Benennen Sie Klassen und Funktionen einheitlich; üblich sind UpperCamelCase für Klassen und lowercase_with_underscores for für Funktionen."
   ]
  },
  {
   "cell_type": "markdown",
   "id": "3972196d",
   "metadata": {},
   "source": [
    "## 14. Arbeiten mit Strings"
   ]
  },
  {
   "cell_type": "markdown",
   "id": "ea9faa0e",
   "metadata": {},
   "source": [
    "Ein String ist eine Folge von Zeichen, die in Anführungszeichen geschrieben wird.  \n",
    "Sie können sowohl einfache (`'...'`) als auch doppelte (`\"...\"`) Anführungszeichen verwenden – beides ist gültig.\n",
    "\n",
    "Strings sind unveränderlich (*immutable*), das heißt:  \n",
    "Man kann einzelne Zeichen nicht direkt ändern, sondern muss einen neuen String erstellen."
   ]
  },
  {
   "cell_type": "markdown",
   "id": "cf11332b",
   "metadata": {},
   "source": [
    "### Indexing und Slicing\n",
    "\n",
    "Strings verhalten sich wie Listen – jedes Zeichen hat einen Index, beginnend bei `0`.\n",
    "\n",
    "Mit Indexing greift man auf einzelne Zeichen zu, mit Slicing kann man Teilstrings ausschneiden.\n"
   ]
  },
  {
   "cell_type": "code",
   "id": "fa416448",
   "metadata": {
    "ExecuteTime": {
     "end_time": "2025-10-20T12:49:14.887777Z",
     "start_time": "2025-10-20T12:49:14.880806Z"
    }
   },
   "source": [
    "word = \"Python\"\n",
    "\n",
    "print(word[0])    # erstes Zeichen\n",
    "print(word[-1])   # letztes Zeichen\n",
    "print(word[0:3])  # Zeichen von Index 0 bis (aber ohne) 3\n",
    "print(word[2:])   # ab Index 2 bis zum Ende"
   ],
   "outputs": [
    {
     "name": "stdout",
     "output_type": "stream",
     "text": [
      "P\n",
      "n\n",
      "Pyt\n",
      "thon\n"
     ]
    }
   ],
   "execution_count": 82
  },
  {
   "cell_type": "markdown",
   "id": "c826f414",
   "metadata": {},
   "source": [
    "**14.1 Aufgabe:**\n",
    "\n",
    "Verwenden Sie den gegebenen Satz, um folgende Teilaufgaben zu lösen:\n",
    "\n",
    "- Geben Sie die ersten 4 Zeichen aus.  \n",
    "- Geben Sie die letzten 2 Zeichen aus.  \n",
    "- Geben Sie den String rückwärts aus.  \n",
    "\n",
    "Satz: `\"Maschinensprache oder Menschensprache, das ist hier die Frage!\"`"
   ]
  },
  {
   "cell_type": "code",
   "id": "2646566c",
   "metadata": {
    "ExecuteTime": {
     "end_time": "2025-10-20T12:54:32.374567Z",
     "start_time": "2025-10-20T12:54:32.372198Z"
    }
   },
   "source": [
    "# Ihre Lösung:\n",
    "satz = \"Machinensprache oder Menschensprache, das ist hier die Frage!\"\n",
    "\n",
    "# ersten 4 Zeichen\n",
    "print(satz[:4])\n",
    "\n",
    "# letzten 2 Zeichen\n",
    "print(satz[-2:])\n",
    "\n",
    "# String rückwärts\n",
    "print(satz[::-1])\n"
   ],
   "outputs": [
    {
     "name": "stdout",
     "output_type": "stream",
     "text": [
      "Mach\n",
      "e!\n",
      "!egarF eid reih tsi sad ,ehcarpsnehcsneM redo ehcarpsnenihcaM\n"
     ]
    }
   ],
   "execution_count": 91
  },
  {
   "cell_type": "markdown",
   "id": "b3246ae7",
   "metadata": {},
   "source": [
    "**14.2 Aufgabe**: \n",
    "\n",
    "Ein Palindrom ist ein Wort, das vorwärts und rückwärts gleich ist, z. B. *Anna* oder *Rentner*.\n",
    "\n",
    "Schreiben Sie eine Funktion, die überprüft, ob ein eingegebenes Wort ein Palindrom ist."
   ]
  },
  {
   "cell_type": "code",
   "id": "2f3f0922",
   "metadata": {
    "ExecuteTime": {
     "end_time": "2025-10-20T14:11:44.409414Z",
     "start_time": "2025-10-20T14:11:44.405782Z"
    }
   },
   "source": [
    "# Ihre Lösung:\n",
    "def is_palindrom(word):\n",
    "    word = word.lower()\n",
    "    return word == word[::-1]"
   ],
   "outputs": [],
   "execution_count": 99
  },
  {
   "metadata": {
    "ExecuteTime": {
     "end_time": "2025-10-20T14:11:45.516261Z",
     "start_time": "2025-10-20T14:11:45.513551Z"
    }
   },
   "cell_type": "code",
   "source": "is_palindrom(\"Rentner\")",
   "id": "d6507664beb59e39",
   "outputs": [
    {
     "data": {
      "text/plain": [
       "True"
      ]
     },
     "execution_count": 100,
     "metadata": {},
     "output_type": "execute_result"
    }
   ],
   "execution_count": 100
  },
  {
   "metadata": {
    "ExecuteTime": {
     "end_time": "2025-10-20T14:11:46.955031Z",
     "start_time": "2025-10-20T14:11:46.951614Z"
    }
   },
   "cell_type": "code",
   "source": "is_palindrom(\"Wal\")",
   "id": "938964229e53d9b2",
   "outputs": [
    {
     "data": {
      "text/plain": [
       "False"
      ]
     },
     "execution_count": 101,
     "metadata": {},
     "output_type": "execute_result"
    }
   ],
   "execution_count": 101
  },
  {
   "cell_type": "markdown",
   "id": "28a58465",
   "metadata": {},
   "source": [
    "### Wichtige String-Methoden\n",
    "\n",
    "Python bietet viele eingebaute Methoden, um Strings zu verändern oder zu analysieren.  \n",
    "Hier sind einige der wichtigsten:"
   ]
  },
  {
   "cell_type": "code",
   "id": "8270e340",
   "metadata": {
    "ExecuteTime": {
     "end_time": "2025-10-20T14:12:04.777116Z",
     "start_time": "2025-10-20T14:12:04.774076Z"
    }
   },
   "source": [
    "text = \"   python makes DATA analysis easy  \"\n",
    "\n",
    "print(text.upper())          # alles in Großbuchstaben\n",
    "print(text.lower())          # alles in Kleinbuchstaben\n",
    "print(text.title())          # jedes Wort beginnt mit Großbuchstaben\n",
    "print(text.replace(\"DATA\", \"data\"))  # ersetzt ein Wort\n",
    "print(text.count(\"a\"))       # zählt, wie oft 'a' vorkommt\n",
    "print(text.strip())          # entfernt Leerzeichen am Anfang/Ende\n"
   ],
   "outputs": [
    {
     "name": "stdout",
     "output_type": "stream",
     "text": [
      "   PYTHON MAKES DATA ANALYSIS EASY  \n",
      "   python makes data analysis easy  \n",
      "   Python Makes Data Analysis Easy  \n",
      "   python makes data analysis easy  \n",
      "4\n",
      "python makes DATA analysis easy\n"
     ]
    }
   ],
   "execution_count": 102
  },
  {
   "cell_type": "markdown",
   "id": "f1282a10",
   "metadata": {},
   "source": [
    "### Strings verbinden und wiederholen\n",
    "\n",
    "Strings können mit `+` verbunden oder mit `*` wiederholt werden."
   ]
  },
  {
   "cell_type": "code",
   "id": "3ead8183",
   "metadata": {
    "ExecuteTime": {
     "end_time": "2025-10-20T14:12:48.198499Z",
     "start_time": "2025-10-20T14:12:48.196465Z"
    }
   },
   "source": [
    "name = \"Zeynep\"\n",
    "print(\"Hallo, \" + name + \"!\")\n",
    "print(\"Hi! \" * 3)\n"
   ],
   "outputs": [
    {
     "name": "stdout",
     "output_type": "stream",
     "text": [
      "Hallo, Zeynep!\n",
      "Hi! Hi! Hi! \n"
     ]
    }
   ],
   "execution_count": 103
  },
  {
   "cell_type": "markdown",
   "id": "be0361c3",
   "metadata": {},
   "source": [
    "### Strings bereinigen und verarbeiten\n",
    "\n",
    "Texte enthalten oft unnötige Leerzeichen oder Sonderzeichen.  \n",
    "\n",
    "Mit Methoden wie `strip()`, `split()` und `join()` kann man sie bereinigen oder aufteilen."
   ]
  },
  {
   "cell_type": "code",
   "id": "77cf331d",
   "metadata": {
    "ExecuteTime": {
     "end_time": "2025-10-20T14:14:09.552608Z",
     "start_time": "2025-10-20T14:14:09.549731Z"
    }
   },
   "source": [
    "raw_text = \"   ...Data Science...   \"\n",
    "\n",
    "cleaned_text = raw_text.strip(\" .\")\n",
    "print(cleaned_text)\n",
    "\n",
    "words = cleaned_text.split()\n",
    "print(words)\n",
    "\n",
    "sentence = \" \".join(words)\n",
    "print(sentence)"
   ],
   "outputs": [
    {
     "name": "stdout",
     "output_type": "stream",
     "text": [
      "Data Science\n",
      "['Data', 'Science']\n",
      "Data Science\n"
     ]
    }
   ],
   "execution_count": 106
  },
  {
   "metadata": {},
   "cell_type": "markdown",
   "source": [
    "**`strip()`:**\n",
    "- entfernt am Anfang und am Ende eines Strings bestimmte Zeichen.\n",
    "- Jedes Leerzeichen \" \" und jeder Punkt \".\", der am Rand vorkommt, wirdentfernt.\n",
    "- Wichtig: Zeichen in der Mitte des Textes bleiben erhalten!\n",
    "\n",
    "**`split()`:**\n",
    "- teilt einen String in einzelne Wörter, standardmäßig an Leerzeichen.\n",
    "- Es entsteht eine Liste von Wörtern.\n",
    "\n",
    "**`join()`:**\n",
    "- macht das Gegenteil von split().\n",
    "- Es verbindet die Elemente einer Liste zu einem String.\n",
    "- Zwischen den Elementen wird das eingefügt, was links vom .join() steht, in diesem Fall ein Leerzeichen \" \"."
   ],
   "id": "2112b70133392415"
  },
  {
   "cell_type": "markdown",
   "id": "8a6f57bb",
   "metadata": {},
   "source": [
    "**14.2 Aufgabe:** \n",
    "Der folgende Text enthält viele unnötige Zeichen.  \n",
    "\n",
    "Bereinigen Sie ihn mit Hilfe von String-Methoden.\n",
    "\n",
    "- Entfernen Sie überflüssige Kommas und Leerzeichen.  \n",
    "- Alle Wörter sollen kleingeschrieben sein. \n",
    "- Teilen Sie den bereinigten Text in Wörter auf.  \n",
    "- Fügen Sie die Wörter wieder zu einem sauberen Satz zusammen."
   ]
  },
  {
   "cell_type": "code",
   "id": "8d0f3c11",
   "metadata": {
    "ExecuteTime": {
     "end_time": "2025-10-20T14:28:06.551808Z",
     "start_time": "2025-10-20T14:28:06.549050Z"
    }
   },
   "source": [
    "text = \"  ,,,Data,Science,,ist,toll!!!   \"\n",
    "\n",
    "# Ihre Lösung:\n",
    "# Kommas und Leerzeichen entfernen (am Anfang und Ende)\n",
    "cleaned_text = text.strip(\" ,\")\n",
    "print(cleaned_text)\n",
    "\n",
    "while \",,\" in cleaned_text:\n",
    "    cleaned_text = cleaned_text.replace(\",,\", \" \")\n",
    "    print(cleaned_text)\n",
    "\n",
    "while \",\" in cleaned_text:\n",
    "    cleaned_text = cleaned_text.replace(\",\", \" \")\n",
    "    print(cleaned_text)\n",
    "\n",
    "# alles kleingeschrieben\n",
    "print(cleaned_text.lower())\n",
    "\n",
    "# Text in Wörter aufteilen\n",
    "words = cleaned_text.split(\",\")\n",
    "print(words)\n",
    "\n",
    "# Wörter zu einem Satz zusammenfügen\n",
    "sentence = \" \".join(words)\n",
    "print(sentence)"
   ],
   "outputs": [
    {
     "name": "stdout",
     "output_type": "stream",
     "text": [
      "Data,Science,,ist,toll!!!\n",
      "Data,Science ist,toll!!!\n",
      "Data Science ist toll!!!\n",
      "data science ist toll!!!\n",
      "['Data Science ist toll!!!']\n",
      "Data Science ist toll!!!\n"
     ]
    }
   ],
   "execution_count": 122
  },
  {
   "cell_type": "markdown",
   "id": "154dab10",
   "metadata": {},
   "source": [
    "### Überprüfen von Teilstrings\n",
    "\n",
    "Mit den Operatoren `in` und `not in` lässt sich prüfen,  ob ein bestimmter Teilstring in einem anderen String vorkommt."
   ]
  },
  {
   "cell_type": "code",
   "id": "7ab35b66",
   "metadata": {
    "ExecuteTime": {
     "end_time": "2025-10-20T14:26:05.365129Z",
     "start_time": "2025-10-20T14:26:05.363042Z"
    }
   },
   "source": [
    "text = \"Python Programmierung\"\n",
    "\n",
    "print(\"Python\" in text)       # True\n",
    "print(\"Java\" not in text)     # True"
   ],
   "outputs": [
    {
     "name": "stdout",
     "output_type": "stream",
     "text": [
      "True\n",
      "True\n"
     ]
    }
   ],
   "execution_count": 116
  },
  {
   "cell_type": "markdown",
   "id": "3cef6c7b",
   "metadata": {},
   "source": [
    "## 15. Daten einlesen und bearbeiten mit `pandas`"
   ]
  },
  {
   "cell_type": "code",
   "execution_count": null,
   "id": "4f2f742b",
   "metadata": {},
   "outputs": [],
   "source": [
    "# Alternativ zur oben beschriebenen Installation von pandas über das Terminal \n",
    "%pip install pandas"
   ]
  },
  {
   "cell_type": "code",
   "id": "eccdf15f",
   "metadata": {
    "ExecuteTime": {
     "end_time": "2025-10-20T14:26:38.246854Z",
     "start_time": "2025-10-20T14:26:37.927686Z"
    }
   },
   "source": [
    "# pandas importieren, um es nutzen zu können\n",
    "import pandas as pd "
   ],
   "outputs": [],
   "execution_count": 117
  },
  {
   "cell_type": "code",
   "id": "50827f84",
   "metadata": {
    "ExecuteTime": {
     "end_time": "2025-10-20T14:29:00.338456Z",
     "start_time": "2025-10-20T14:29:00.335929Z"
    }
   },
   "source": [
    "# Funktion, um Text zu bereinigen und zu tokenisieren\n",
    "def clean_and_tokenize(text): \n",
    "    cleaned_text = text.replace('?', ' ').strip()\n",
    "    cleaned_text = cleaned_text.lower().split()\n",
    "    return cleaned_text"
   ],
   "outputs": [],
   "execution_count": 123
  },
  {
   "cell_type": "code",
   "id": "c24c3161",
   "metadata": {
    "ExecuteTime": {
     "end_time": "2025-10-20T14:31:49.187600Z",
     "start_time": "2025-10-20T14:31:49.180583Z"
    }
   },
   "source": [
    "# Beispieldaten erzeugen\n",
    "faq_data = {\n",
    "    'id': [1,2,3,4,5,6,7,8],\n",
    "    'question': [\n",
    "        'Wie kann ich mein Passwort zurücksetzen?',\n",
    "        'Wo finde ich meine Bestellhistorie?',\n",
    "        'Wie kann ich meine Lieferadresse ändern?',\n",
    "        'Wie kontaktiere ich den Kundendienst?',\n",
    "        'Welche Zahlungsmethoden werden akzeptiert?',\n",
    "        'Wie kann ich meine Bestellung stornieren?',\n",
    "        'Wie lange dauert der Versand?',\n",
    "        'Kann ich Artikel nach der Bestellung noch ändern?'\n",
    "    ]\n",
    "}\n",
    "# Dataframe aus Daten erzeugen\n",
    "df = pd.DataFrame(faq_data)\n",
    "\n",
    "# Neue Spalte 'tokens' erzeugen\n",
    "# Text aus der Spalte 'question' bereinigen und tokenisieren\n",
    "# Der gecleante Text \n",
    "df['tokens'] = df['question'].apply(clean_and_tokenize)\n",
    "\n",
    "# Die ersten fünf rows des DataFrames anzeigen\n",
    "df.head()"
   ],
   "outputs": [
    {
     "data": {
      "text/plain": [
       "   id                                    question  \\\n",
       "0   1    Wie kann ich mein Passwort zurücksetzen?   \n",
       "1   2         Wo finde ich meine Bestellhistorie?   \n",
       "2   3    Wie kann ich meine Lieferadresse ändern?   \n",
       "3   4       Wie kontaktiere ich den Kundendienst?   \n",
       "4   5  Welche Zahlungsmethoden werden akzeptiert?   \n",
       "\n",
       "                                           tokens  \n",
       "0  [wie, kann, ich, mein, passwort, zurücksetzen]  \n",
       "1        [wo, finde, ich, meine, bestellhistorie]  \n",
       "2  [wie, kann, ich, meine, lieferadresse, ändern]  \n",
       "3      [wie, kontaktiere, ich, den, kundendienst]  \n",
       "4  [welche, zahlungsmethoden, werden, akzeptiert]  "
      ],
      "text/html": [
       "<div>\n",
       "<style scoped>\n",
       "    .dataframe tbody tr th:only-of-type {\n",
       "        vertical-align: middle;\n",
       "    }\n",
       "\n",
       "    .dataframe tbody tr th {\n",
       "        vertical-align: top;\n",
       "    }\n",
       "\n",
       "    .dataframe thead th {\n",
       "        text-align: right;\n",
       "    }\n",
       "</style>\n",
       "<table border=\"1\" class=\"dataframe\">\n",
       "  <thead>\n",
       "    <tr style=\"text-align: right;\">\n",
       "      <th></th>\n",
       "      <th>id</th>\n",
       "      <th>question</th>\n",
       "      <th>tokens</th>\n",
       "    </tr>\n",
       "  </thead>\n",
       "  <tbody>\n",
       "    <tr>\n",
       "      <th>0</th>\n",
       "      <td>1</td>\n",
       "      <td>Wie kann ich mein Passwort zurücksetzen?</td>\n",
       "      <td>[wie, kann, ich, mein, passwort, zurücksetzen]</td>\n",
       "    </tr>\n",
       "    <tr>\n",
       "      <th>1</th>\n",
       "      <td>2</td>\n",
       "      <td>Wo finde ich meine Bestellhistorie?</td>\n",
       "      <td>[wo, finde, ich, meine, bestellhistorie]</td>\n",
       "    </tr>\n",
       "    <tr>\n",
       "      <th>2</th>\n",
       "      <td>3</td>\n",
       "      <td>Wie kann ich meine Lieferadresse ändern?</td>\n",
       "      <td>[wie, kann, ich, meine, lieferadresse, ändern]</td>\n",
       "    </tr>\n",
       "    <tr>\n",
       "      <th>3</th>\n",
       "      <td>4</td>\n",
       "      <td>Wie kontaktiere ich den Kundendienst?</td>\n",
       "      <td>[wie, kontaktiere, ich, den, kundendienst]</td>\n",
       "    </tr>\n",
       "    <tr>\n",
       "      <th>4</th>\n",
       "      <td>5</td>\n",
       "      <td>Welche Zahlungsmethoden werden akzeptiert?</td>\n",
       "      <td>[welche, zahlungsmethoden, werden, akzeptiert]</td>\n",
       "    </tr>\n",
       "  </tbody>\n",
       "</table>\n",
       "</div>"
      ]
     },
     "execution_count": 127,
     "metadata": {},
     "output_type": "execute_result"
    }
   ],
   "execution_count": 127
  },
  {
   "metadata": {},
   "cell_type": "markdown",
   "source": [
    "| Teil                         | Bedeutung                                                                       |\n",
    "| ---------------------------- | ------------------------------------------------------------------------------- |\n",
    "| `df['question']`             | Greift auf die **Spalte `question`** im DataFrame zu                            |\n",
    "| `.apply(clean_and_tokenize)` | Wendet die Funktion **clean_and_tokenize() auf jeden Eintrag** dieser Spalte an |\n",
    "| `df['tokens'] = ...`         | Speichert das Ergebnis in einer **neuen Spalte namens `tokens`**                |\n"
   ],
   "id": "1f915463af096d7b"
  },
  {
   "cell_type": "code",
   "id": "895d6785",
   "metadata": {
    "ExecuteTime": {
     "end_time": "2025-10-20T14:31:52.769116Z",
     "start_time": "2025-10-20T14:31:52.765916Z"
    }
   },
   "source": [
    "# Dataframe als CSV speichern\n",
    "# Erzeugen Sie vorher einen Ordner `data/` auf der obersten Ebene Ihres Repositories\n",
    "df.to_csv('../data/faq_cleaned.csv', index=False)"
   ],
   "outputs": [],
   "execution_count": 128
  },
  {
   "cell_type": "code",
   "id": "da32dfaa",
   "metadata": {
    "ExecuteTime": {
     "end_time": "2025-10-20T14:42:34.587251Z",
     "start_time": "2025-10-20T14:42:34.582271Z"
    }
   },
   "source": [
    "# Daten wieder einlesen\n",
    "import ast\n",
    "\n",
    "df = pd.read_csv('../data/faq_cleaned.csv')\n",
    "\n",
    "# Stellt korrektes Einlesen der Spalte als Liste von Strings sicher\n",
    "df['tokens'] = df['tokens'].apply(ast.literal_eval)"
   ],
   "outputs": [],
   "execution_count": 132
  },
  {
   "metadata": {
    "ExecuteTime": {
     "end_time": "2025-10-20T14:42:36.272331Z",
     "start_time": "2025-10-20T14:42:36.268454Z"
    }
   },
   "cell_type": "code",
   "source": "df.head()",
   "id": "6fa0d6f99979e0a4",
   "outputs": [
    {
     "data": {
      "text/plain": [
       "   id                                    question  \\\n",
       "0   1    Wie kann ich mein Passwort zurücksetzen?   \n",
       "1   2         Wo finde ich meine Bestellhistorie?   \n",
       "2   3    Wie kann ich meine Lieferadresse ändern?   \n",
       "3   4       Wie kontaktiere ich den Kundendienst?   \n",
       "4   5  Welche Zahlungsmethoden werden akzeptiert?   \n",
       "\n",
       "                                           tokens  \n",
       "0  [wie, kann, ich, mein, passwort, zurücksetzen]  \n",
       "1        [wo, finde, ich, meine, bestellhistorie]  \n",
       "2  [wie, kann, ich, meine, lieferadresse, ändern]  \n",
       "3      [wie, kontaktiere, ich, den, kundendienst]  \n",
       "4  [welche, zahlungsmethoden, werden, akzeptiert]  "
      ],
      "text/html": [
       "<div>\n",
       "<style scoped>\n",
       "    .dataframe tbody tr th:only-of-type {\n",
       "        vertical-align: middle;\n",
       "    }\n",
       "\n",
       "    .dataframe tbody tr th {\n",
       "        vertical-align: top;\n",
       "    }\n",
       "\n",
       "    .dataframe thead th {\n",
       "        text-align: right;\n",
       "    }\n",
       "</style>\n",
       "<table border=\"1\" class=\"dataframe\">\n",
       "  <thead>\n",
       "    <tr style=\"text-align: right;\">\n",
       "      <th></th>\n",
       "      <th>id</th>\n",
       "      <th>question</th>\n",
       "      <th>tokens</th>\n",
       "    </tr>\n",
       "  </thead>\n",
       "  <tbody>\n",
       "    <tr>\n",
       "      <th>0</th>\n",
       "      <td>1</td>\n",
       "      <td>Wie kann ich mein Passwort zurücksetzen?</td>\n",
       "      <td>[wie, kann, ich, mein, passwort, zurücksetzen]</td>\n",
       "    </tr>\n",
       "    <tr>\n",
       "      <th>1</th>\n",
       "      <td>2</td>\n",
       "      <td>Wo finde ich meine Bestellhistorie?</td>\n",
       "      <td>[wo, finde, ich, meine, bestellhistorie]</td>\n",
       "    </tr>\n",
       "    <tr>\n",
       "      <th>2</th>\n",
       "      <td>3</td>\n",
       "      <td>Wie kann ich meine Lieferadresse ändern?</td>\n",
       "      <td>[wie, kann, ich, meine, lieferadresse, ändern]</td>\n",
       "    </tr>\n",
       "    <tr>\n",
       "      <th>3</th>\n",
       "      <td>4</td>\n",
       "      <td>Wie kontaktiere ich den Kundendienst?</td>\n",
       "      <td>[wie, kontaktiere, ich, den, kundendienst]</td>\n",
       "    </tr>\n",
       "    <tr>\n",
       "      <th>4</th>\n",
       "      <td>5</td>\n",
       "      <td>Welche Zahlungsmethoden werden akzeptiert?</td>\n",
       "      <td>[welche, zahlungsmethoden, werden, akzeptiert]</td>\n",
       "    </tr>\n",
       "  </tbody>\n",
       "</table>\n",
       "</div>"
      ]
     },
     "execution_count": 133,
     "metadata": {},
     "output_type": "execute_result"
    }
   ],
   "execution_count": 133
  },
  {
   "metadata": {},
   "cell_type": "markdown",
   "source": [
    "- Wenn in einer CSV eine Liste gespeichert ist, steht sie meistens als Text\n",
    "- `ast.literal_eval()` wandelt einen String sicher in ein echtes Python-Objekt um."
   ],
   "id": "417976773e1d3874"
  },
  {
   "cell_type": "markdown",
   "id": "3985908b",
   "metadata": {},
   "source": [
    "**15.1 Aufgabe:**\n",
    "- Fügen Sie dem DataFrame eine neue Spalte `token_count` hinzu, in der Sie die Anzahl an Tokens speichern. \n",
    "- Fügen Sie eine weitere Spalte `tokens_sorted` hinzu, die die sortierten Tokens beinhaltet. \n"
   ]
  },
  {
   "metadata": {
    "ExecuteTime": {
     "end_time": "2025-10-20T14:46:22.465633Z",
     "start_time": "2025-10-20T14:46:22.442058Z"
    }
   },
   "cell_type": "code",
   "source": [
    "# neue Spalte token_count\n",
    "df['token_count'] = df['tokens'].apply(len)\n",
    "df.head(3)"
   ],
   "id": "d4502dbd659d0c12",
   "outputs": [
    {
     "data": {
      "text/plain": [
       "   id                                  question  \\\n",
       "0   1  Wie kann ich mein Passwort zurücksetzen?   \n",
       "1   2       Wo finde ich meine Bestellhistorie?   \n",
       "2   3  Wie kann ich meine Lieferadresse ändern?   \n",
       "\n",
       "                                           tokens  token_count  \n",
       "0  [wie, kann, ich, mein, passwort, zurücksetzen]            6  \n",
       "1        [wo, finde, ich, meine, bestellhistorie]            5  \n",
       "2  [wie, kann, ich, meine, lieferadresse, ändern]            6  "
      ],
      "text/html": [
       "<div>\n",
       "<style scoped>\n",
       "    .dataframe tbody tr th:only-of-type {\n",
       "        vertical-align: middle;\n",
       "    }\n",
       "\n",
       "    .dataframe tbody tr th {\n",
       "        vertical-align: top;\n",
       "    }\n",
       "\n",
       "    .dataframe thead th {\n",
       "        text-align: right;\n",
       "    }\n",
       "</style>\n",
       "<table border=\"1\" class=\"dataframe\">\n",
       "  <thead>\n",
       "    <tr style=\"text-align: right;\">\n",
       "      <th></th>\n",
       "      <th>id</th>\n",
       "      <th>question</th>\n",
       "      <th>tokens</th>\n",
       "      <th>token_count</th>\n",
       "    </tr>\n",
       "  </thead>\n",
       "  <tbody>\n",
       "    <tr>\n",
       "      <th>0</th>\n",
       "      <td>1</td>\n",
       "      <td>Wie kann ich mein Passwort zurücksetzen?</td>\n",
       "      <td>[wie, kann, ich, mein, passwort, zurücksetzen]</td>\n",
       "      <td>6</td>\n",
       "    </tr>\n",
       "    <tr>\n",
       "      <th>1</th>\n",
       "      <td>2</td>\n",
       "      <td>Wo finde ich meine Bestellhistorie?</td>\n",
       "      <td>[wo, finde, ich, meine, bestellhistorie]</td>\n",
       "      <td>5</td>\n",
       "    </tr>\n",
       "    <tr>\n",
       "      <th>2</th>\n",
       "      <td>3</td>\n",
       "      <td>Wie kann ich meine Lieferadresse ändern?</td>\n",
       "      <td>[wie, kann, ich, meine, lieferadresse, ändern]</td>\n",
       "      <td>6</td>\n",
       "    </tr>\n",
       "  </tbody>\n",
       "</table>\n",
       "</div>"
      ]
     },
     "execution_count": 134,
     "metadata": {},
     "output_type": "execute_result"
    }
   ],
   "execution_count": 134
  },
  {
   "metadata": {},
   "cell_type": "markdown",
   "source": "- `df['tokens'].apply(len)` → wendet len() auf jede Liste in der Spalte an.",
   "id": "7feb4e99f1811d83"
  },
  {
   "metadata": {
    "ExecuteTime": {
     "end_time": "2025-10-20T14:47:27.909146Z",
     "start_time": "2025-10-20T14:47:27.902664Z"
    }
   },
   "cell_type": "code",
   "source": [
    "# neue Spalte tokens_sorted\n",
    "df['token_sorted'] = df['tokens'].apply(sorted)\n",
    "df.head(3)"
   ],
   "id": "471359f900a1fe9e",
   "outputs": [
    {
     "data": {
      "text/plain": [
       "   id                                  question  \\\n",
       "0   1  Wie kann ich mein Passwort zurücksetzen?   \n",
       "1   2       Wo finde ich meine Bestellhistorie?   \n",
       "2   3  Wie kann ich meine Lieferadresse ändern?   \n",
       "\n",
       "                                           tokens  token_count  \\\n",
       "0  [wie, kann, ich, mein, passwort, zurücksetzen]            6   \n",
       "1        [wo, finde, ich, meine, bestellhistorie]            5   \n",
       "2  [wie, kann, ich, meine, lieferadresse, ändern]            6   \n",
       "\n",
       "                                     token_sorted  \n",
       "0  [ich, kann, mein, passwort, wie, zurücksetzen]  \n",
       "1        [bestellhistorie, finde, ich, meine, wo]  \n",
       "2  [ich, kann, lieferadresse, meine, wie, ändern]  "
      ],
      "text/html": [
       "<div>\n",
       "<style scoped>\n",
       "    .dataframe tbody tr th:only-of-type {\n",
       "        vertical-align: middle;\n",
       "    }\n",
       "\n",
       "    .dataframe tbody tr th {\n",
       "        vertical-align: top;\n",
       "    }\n",
       "\n",
       "    .dataframe thead th {\n",
       "        text-align: right;\n",
       "    }\n",
       "</style>\n",
       "<table border=\"1\" class=\"dataframe\">\n",
       "  <thead>\n",
       "    <tr style=\"text-align: right;\">\n",
       "      <th></th>\n",
       "      <th>id</th>\n",
       "      <th>question</th>\n",
       "      <th>tokens</th>\n",
       "      <th>token_count</th>\n",
       "      <th>token_sorted</th>\n",
       "    </tr>\n",
       "  </thead>\n",
       "  <tbody>\n",
       "    <tr>\n",
       "      <th>0</th>\n",
       "      <td>1</td>\n",
       "      <td>Wie kann ich mein Passwort zurücksetzen?</td>\n",
       "      <td>[wie, kann, ich, mein, passwort, zurücksetzen]</td>\n",
       "      <td>6</td>\n",
       "      <td>[ich, kann, mein, passwort, wie, zurücksetzen]</td>\n",
       "    </tr>\n",
       "    <tr>\n",
       "      <th>1</th>\n",
       "      <td>2</td>\n",
       "      <td>Wo finde ich meine Bestellhistorie?</td>\n",
       "      <td>[wo, finde, ich, meine, bestellhistorie]</td>\n",
       "      <td>5</td>\n",
       "      <td>[bestellhistorie, finde, ich, meine, wo]</td>\n",
       "    </tr>\n",
       "    <tr>\n",
       "      <th>2</th>\n",
       "      <td>3</td>\n",
       "      <td>Wie kann ich meine Lieferadresse ändern?</td>\n",
       "      <td>[wie, kann, ich, meine, lieferadresse, ändern]</td>\n",
       "      <td>6</td>\n",
       "      <td>[ich, kann, lieferadresse, meine, wie, ändern]</td>\n",
       "    </tr>\n",
       "  </tbody>\n",
       "</table>\n",
       "</div>"
      ]
     },
     "execution_count": 136,
     "metadata": {},
     "output_type": "execute_result"
    }
   ],
   "execution_count": 136
  },
  {
   "cell_type": "markdown",
   "id": "19fe2651",
   "metadata": {},
   "source": [
    "## Weiterführende Ressourcen"
   ]
  },
  {
   "cell_type": "markdown",
   "id": "39e8ed2b",
   "metadata": {},
   "source": [
    "* http://www.python.org - Offizielle Python Webseite. \n",
    "* http://www.python.org/dev/peps/pep-0008 - PEP8 Pythonn Styleguide. \n",
    "* http://www.greenteapress.com/thinkpython/ - Frei zugängliche Python Einführung. \n",
    "* https://www.w3schools.com/python/default.asp - W3 School Python Tutorial. "
   ]
  }
 ],
 "metadata": {
  "kernelspec": {
   "display_name": "venv",
   "language": "python",
   "name": "python3"
  },
  "language_info": {
   "codemirror_mode": {
    "name": "ipython",
    "version": 3
   },
   "file_extension": ".py",
   "mimetype": "text/x-python",
   "name": "python",
   "nbconvert_exporter": "python",
   "pygments_lexer": "ipython3",
   "version": "3.13.2"
  }
 },
 "nbformat": 4,
 "nbformat_minor": 5
}
