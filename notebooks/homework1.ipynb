{
 "cells": [
  {
   "cell_type": "markdown",
   "id": "1152ac3f-3660-4f56-93a0-a9e8cad7b5fc",
   "metadata": {},
   "source": [
    "### Hausaufgabe 1"
   ]
  },
  {
   "cell_type": "code",
   "execution_count": 3,
   "id": "8b33283b-8fa3-47be-b45e-bb17cf603012",
   "metadata": {},
   "outputs": [
    {
     "name": "stdout",
     "output_type": "stream",
     "text": [
      "Hello World! I am coding in Python!\n"
     ]
    }
   ],
   "source": [
    "# Hello world\n",
    "print(\"Hello World! I am coding in Python!\")"
   ]
  },
  {
   "cell_type": "code",
   "execution_count": 11,
   "id": "f26f81e4-3a92-4581-9fad-bb5796d59c8f",
   "metadata": {},
   "outputs": [],
   "source": [
    "# Working with a list of text entries\n",
    "knowledge_base = [\n",
    "{\"id\": 1, \"text\": \"Ada Lovelace is considered the first computer programmer for her work on Charles Babbage's Analytical Engine.\"},\n",
    "{\"id\": 2, \"text\": \"Grace Hopper was a pioneer in computer programming and developed the first compiler for a computer programming language.\"},\n",
    "{\"id\": 3, \"text\": \"Katherine Johnson was a mathematician whose calculations of orbital mechanics were critical to the success of NASA's space missions.\"},\n",
    "{\"id\": 4, \"text\": \"Radia Perlman is known as the 'Mother of the Internet' for her invention of the spanning-tree protocol (STP) that made modern Ethernet networks possible.\"},\n",
    "{\"id\": 5, \"text\": \"Barbara Liskov is a computer scientist recognized for her work in programming languages and system design, including the Liskov Substitution Principle.\"}\n",
    "]"
   ]
  },
  {
   "cell_type": "code",
   "execution_count": 12,
   "id": "dcfb517e-1593-429a-8ac6-5913e8892995",
   "metadata": {},
   "outputs": [
    {
     "name": "stdout",
     "output_type": "stream",
     "text": [
      "1: Ada Lovelace is considered the first computer programmer for her work on Charles Babbage's Analytical Engine.\n",
      "2: Grace Hopper was a pioneer in computer programming and developed the first compiler for a computer programming language.\n",
      "3: Katherine Johnson was a mathematician whose calculations of orbital mechanics were critical to the success of NASA's space missions.\n",
      "4: Radia Perlman is known as the 'Mother of the Internet' for her invention of the spanning-tree protocol (STP) that made modern Ethernet networks possible.\n",
      "5: Barbara Liskov is a computer scientist recognized for her work in programming languages and system design, including the Liskov Substitution Principle.\n"
     ]
    }
   ],
   "source": [
    "# Print all entries\n",
    "for entry in knowledge_base:\n",
    "    print(f\"{entry['id']}: {entry['text']}\")"
   ]
  }
 ],
 "metadata": {
  "kernelspec": {
   "display_name": "Python 3 (ipykernel)",
   "language": "python",
   "name": "python3"
  },
  "language_info": {
   "codemirror_mode": {
    "name": "ipython",
    "version": 3
   },
   "file_extension": ".py",
   "mimetype": "text/x-python",
   "name": "python",
   "nbconvert_exporter": "python",
   "pygments_lexer": "ipython3",
   "version": "3.13.2"
  }
 },
 "nbformat": 4,
 "nbformat_minor": 5
}
